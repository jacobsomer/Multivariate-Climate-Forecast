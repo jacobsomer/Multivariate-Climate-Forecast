{
  "nbformat": 4,
  "nbformat_minor": 0,
  "metadata": {
    "colab": {
      "name": "Climate_Simulation.ipynb",
      "provenance": [],
      "collapsed_sections": []
    },
    "kernelspec": {
      "name": "python3",
      "display_name": "Python 3"
    }
  },
  "cells": [
    {
      "cell_type": "code",
      "metadata": {
        "colab": {
          "resources": {
            "http://localhost:8080/nbextensions/google.colab/files.js": {
              "data": "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",
              "ok": true,
              "headers": [
                [
                  "content-type",
                  "application/javascript"
                ]
              ],
              "status": 200,
              "status_text": ""
            }
          },
          "base_uri": "https://localhost:8080/",
          "height": 126
        },
        "id": "fUefOEe6aeO-",
        "outputId": "4ec97b04-dde0-4cce-b9b7-4b6af7edda9d"
      },
      "source": [
        "import numpy as np\r\n",
        "from keras.models import Sequential\r\n",
        "from keras.layers import LSTM\r\n",
        "from keras.layers import Dense, Dropout\r\n",
        "import pandas as pd\r\n",
        "from matplotlib import pyplot as plt\r\n",
        "from sklearn.preprocessing import StandardScaler\r\n",
        "import seaborn as sns\r\n",
        "from google.colab import files\r\n",
        "import tensorflow as tf\r\n",
        "Co2 = files.upload()\r\n",
        "Methane = files.upload()\r\n",
        "anomaly={\"vals\":{\"1880\":\"-0.24\",\"1881\":\"-0.27\",\"1882\":\"-0.15\",\"1883\":\"-0.24\",\"1884\":\"-0.35\",\"1885\":\"-0.14\",\"1886\":\"-0.29\",\"1887\":\"-0.19\",\"1888\":\"-0.05\",\"1889\":\"-0.30\",\"1890\":\"-0.46\",\"1891\":\"-0.40\",\"1892\":\"-0.49\",\"1893\":\"-0.19\",\"1894\":\"-0.35\",\"1895\":\"-0.18\",\"1896\":\"-0.15\",\"1897\":\"-0.26\",\"1898\":\"-0.32\",\"1899\":\"0.10\",\"1900\":\"-0.14\",\"1901\":\"-0.20\",\"1902\":\"-0.34\",\"1903\":\"-0.48\",\"1904\":\"-0.17\",\"1905\":\"-0.09\",\"1906\":\"-0.35\",\"1907\":\"-0.49\",\"1908\":\"-0.51\",\"1909\":\"-0.29\",\"1910\":\"-0.49\",\"1911\":\"-0.25\",\"1912\":\"-0.43\",\"1913\":\"-0.16\",\"1914\":\"-0.10\",\"1915\":\"-0.03\",\"1916\":\"-0.44\",\"1917\":\"-0.22\",\"1918\":\"-0.12\",\"1919\":\"-0.40\",\"1920\":\"-0.23\",\"1921\":\"-0.17\",\"1922\":\"-0.15\",\"1923\":\"-0.02\",\"1924\":\"-0.29\",\"1925\":\"0.05\",\"1926\":\"-0.07\",\"1927\":\"-0.05\",\"1928\":\"-0.09\",\"1929\":\"-0.11\",\"1930\":\"0.16\",\"1931\":\"-0.13\",\"1932\":\"-0.22\",\"1933\":\"-0.25\",\"1934\":\"0.03\",\"1935\":\"-0.27\",\"1936\":\"-0.01\",\"1937\":\"0.08\",\"1938\":\"0.02\",\"1939\":\"0.08\",\"1940\":\"0.21\",\"1941\":\"0.32\",\"1942\":\"0.09\",\"1943\":\"0.20\",\"1944\":\"0.14\",\"1945\":\"0.19\",\"1946\":\"-0.04\",\"1947\":\"0.00\",\"1948\":\"-0.07\",\"1949\":\"-0.08\",\"1950\":\"-0.34\",\"1951\":\"0.03\",\"1952\":\"-0.14\",\"1953\":\"-0.02\",\"1954\":\"0.05\",\"1955\":\"-0.23\",\"1956\":\"-0.16\",\"1957\":\"0.11\",\"1958\":\"0.07\",\"1959\":\"-0.06\",\"1960\":\"-0.04\",\"1961\":\"0.04\",\"1962\":\"0.09\",\"1963\":\"0.21\",\"1964\":\"-0.21\",\"1965\":\"-0.06\",\"1966\":\"-0.03\",\"1967\":\"0.00\",\"1968\":\"0.01\",\"1969\":\"0.21\",\"1970\":\"0.04\",\"1971\":\"0.03\",\"1972\":\"0.08\",\"1973\":\"0.03\",\"1974\":\"-0.06\",\"1975\":\"-0.16\",\"1976\":\"-0.03\",\"1977\":\"0.26\",\"1978\":\"0.20\",\"1979\":\"0.29\",\"1980\":\"0.31\",\"1981\":\"0.27\",\"1982\":\"0.15\",\"1983\":\"0.45\",\"1984\":\"0.06\",\"1985\":\"0.14\",\"1986\":\"0.16\",\"1987\":\"0.35\",\"1988\":\"0.21\",\"1989\":\"0.23\",\"1990\":\"0.48\",\"1991\":\"0.30\",\"1992\":\"0.04\",\"1993\":\"0.07\",\"1994\":\"0.46\",\"1995\":\"0.45\",\"1996\":\"0.29\",\"1997\":\"0.58\",\"1998\":\"0.42\",\"1999\":\"0.35\",\"2000\":\"0.27\",\"2001\":\"0.71\",\"2002\":\"0.60\",\"2003\":\"0.57\",\"2004\":\"0.76\",\"2005\":\"0.72\",\"2006\":\"0.65\",\"2007\":\"0.53\",\"2008\":\"0.67\",\"2009\":\"0.71\",\"2010\":\"0.75\",\"2011\":\"0.50\",\"2012\":\"0.71\",\"2013\":\"0.81\",\"2014\":\"0.65\",\"2015\":\"1.01\",\"2016\":\"0.79\",\"2017\":\"0.81\",\"2018\":\"0.79\",\"2019\":\"0.92\",\"2020\":\"0.97\"}}\r\n",
        "\r\n"
      ],
      "execution_count": null,
      "outputs": [
        {
          "output_type": "display_data",
          "data": {
            "text/html": [
              "\n",
              "     <input type=\"file\" id=\"files-d5b5a75c-d0f6-439e-b232-e0feacd137bc\" name=\"files[]\" multiple disabled\n",
              "        style=\"border:none\" />\n",
              "     <output id=\"result-d5b5a75c-d0f6-439e-b232-e0feacd137bc\">\n",
              "      Upload widget is only available when the cell has been executed in the\n",
              "      current browser session. Please rerun this cell to enable.\n",
              "      </output>\n",
              "      <script src=\"/nbextensions/google.colab/files.js\"></script> "
            ],
            "text/plain": [
              "<IPython.core.display.HTML object>"
            ]
          },
          "metadata": {
            "tags": []
          }
        },
        {
          "output_type": "stream",
          "text": [
            "Saving ch4-concentration.csv to ch4-concentration.csv\n"
          ],
          "name": "stdout"
        },
        {
          "output_type": "display_data",
          "data": {
            "text/html": [
              "\n",
              "     <input type=\"file\" id=\"files-0db87eb2-34c2-4f73-a478-ed7b8ed05887\" name=\"files[]\" multiple disabled\n",
              "        style=\"border:none\" />\n",
              "     <output id=\"result-0db87eb2-34c2-4f73-a478-ed7b8ed05887\">\n",
              "      Upload widget is only available when the cell has been executed in the\n",
              "      current browser session. Please rerun this cell to enable.\n",
              "      </output>\n",
              "      <script src=\"/nbextensions/google.colab/files.js\"></script> "
            ],
            "text/plain": [
              "<IPython.core.display.HTML object>"
            ]
          },
          "metadata": {
            "tags": []
          }
        },
        {
          "output_type": "stream",
          "text": [
            "Saving co2-concentration-long-term.csv to co2-concentration-long-term.csv\n"
          ],
          "name": "stdout"
        }
      ]
    },
    {
      "cell_type": "code",
      "metadata": {
        "id": "u_nN2SFFaltM"
      },
      "source": [
        "tempAnomaly = pd.DataFrame.from_dict(anomaly)\r\n",
        "CO2_Concentraton = pd.read_csv('co2-concentration-long-term.csv')\r\n",
        "Methane_Concentration = pd.read_csv('ch4-concentration.csv')\r\n"
      ],
      "execution_count": null,
      "outputs": []
    },
    {
      "cell_type": "code",
      "metadata": {
        "colab": {
          "base_uri": "https://localhost:8080/",
          "height": 197
        },
        "id": "-FQO24GWesuN",
        "outputId": "7f1beb7c-b7a3-407b-b9ba-4f54da956008"
      },
      "source": [
        "tempAnomaly.head()"
      ],
      "execution_count": null,
      "outputs": [
        {
          "output_type": "execute_result",
          "data": {
            "text/html": [
              "<div>\n",
              "<style scoped>\n",
              "    .dataframe tbody tr th:only-of-type {\n",
              "        vertical-align: middle;\n",
              "    }\n",
              "\n",
              "    .dataframe tbody tr th {\n",
              "        vertical-align: top;\n",
              "    }\n",
              "\n",
              "    .dataframe thead th {\n",
              "        text-align: right;\n",
              "    }\n",
              "</style>\n",
              "<table border=\"1\" class=\"dataframe\">\n",
              "  <thead>\n",
              "    <tr style=\"text-align: right;\">\n",
              "      <th></th>\n",
              "      <th>vals</th>\n",
              "    </tr>\n",
              "  </thead>\n",
              "  <tbody>\n",
              "    <tr>\n",
              "      <th>1880</th>\n",
              "      <td>-0.24</td>\n",
              "    </tr>\n",
              "    <tr>\n",
              "      <th>1881</th>\n",
              "      <td>-0.27</td>\n",
              "    </tr>\n",
              "    <tr>\n",
              "      <th>1882</th>\n",
              "      <td>-0.15</td>\n",
              "    </tr>\n",
              "    <tr>\n",
              "      <th>1883</th>\n",
              "      <td>-0.24</td>\n",
              "    </tr>\n",
              "    <tr>\n",
              "      <th>1884</th>\n",
              "      <td>-0.35</td>\n",
              "    </tr>\n",
              "  </tbody>\n",
              "</table>\n",
              "</div>"
            ],
            "text/plain": [
              "       vals\n",
              "1880  -0.24\n",
              "1881  -0.27\n",
              "1882  -0.15\n",
              "1883  -0.24\n",
              "1884  -0.35"
            ]
          },
          "metadata": {
            "tags": []
          },
          "execution_count": 3
        }
      ]
    },
    {
      "cell_type": "code",
      "metadata": {
        "colab": {
          "base_uri": "https://localhost:8080/",
          "height": 197
        },
        "id": "EynfSwt-evzd",
        "outputId": "005cde35-1c97-4ae4-f964-cadbdde725bc"
      },
      "source": [
        "CO2_Concentraton.head()\r\n"
      ],
      "execution_count": null,
      "outputs": [
        {
          "output_type": "execute_result",
          "data": {
            "text/html": [
              "<div>\n",
              "<style scoped>\n",
              "    .dataframe tbody tr th:only-of-type {\n",
              "        vertical-align: middle;\n",
              "    }\n",
              "\n",
              "    .dataframe tbody tr th {\n",
              "        vertical-align: top;\n",
              "    }\n",
              "\n",
              "    .dataframe thead th {\n",
              "        text-align: right;\n",
              "    }\n",
              "</style>\n",
              "<table border=\"1\" class=\"dataframe\">\n",
              "  <thead>\n",
              "    <tr style=\"text-align: right;\">\n",
              "      <th></th>\n",
              "      <th>Year</th>\n",
              "      <th>CO2 concentrations (NOAA, 2018)</th>\n",
              "    </tr>\n",
              "  </thead>\n",
              "  <tbody>\n",
              "    <tr>\n",
              "      <th>0</th>\n",
              "      <td>-803719</td>\n",
              "      <td>207.29</td>\n",
              "    </tr>\n",
              "    <tr>\n",
              "      <th>1</th>\n",
              "      <td>-803182</td>\n",
              "      <td>202.23</td>\n",
              "    </tr>\n",
              "    <tr>\n",
              "      <th>2</th>\n",
              "      <td>-802573</td>\n",
              "      <td>204.86</td>\n",
              "    </tr>\n",
              "    <tr>\n",
              "      <th>3</th>\n",
              "      <td>-802060</td>\n",
              "      <td>207.50</td>\n",
              "    </tr>\n",
              "    <tr>\n",
              "      <th>4</th>\n",
              "      <td>-801975</td>\n",
              "      <td>202.92</td>\n",
              "    </tr>\n",
              "  </tbody>\n",
              "</table>\n",
              "</div>"
            ],
            "text/plain": [
              "     Year  CO2 concentrations (NOAA, 2018)\n",
              "0 -803719                           207.29\n",
              "1 -803182                           202.23\n",
              "2 -802573                           204.86\n",
              "3 -802060                           207.50\n",
              "4 -801975                           202.92"
            ]
          },
          "metadata": {
            "tags": []
          },
          "execution_count": 4
        }
      ]
    },
    {
      "cell_type": "code",
      "metadata": {
        "colab": {
          "base_uri": "https://localhost:8080/",
          "height": 197
        },
        "id": "nr1TrRs8ey_R",
        "outputId": "394ebad4-8b62-4cb4-9f59-d63a567d52f3"
      },
      "source": [
        "Methane_Concentration.head()"
      ],
      "execution_count": null,
      "outputs": [
        {
          "output_type": "execute_result",
          "data": {
            "text/html": [
              "<div>\n",
              "<style scoped>\n",
              "    .dataframe tbody tr th:only-of-type {\n",
              "        vertical-align: middle;\n",
              "    }\n",
              "\n",
              "    .dataframe tbody tr th {\n",
              "        vertical-align: top;\n",
              "    }\n",
              "\n",
              "    .dataframe thead th {\n",
              "        text-align: right;\n",
              "    }\n",
              "</style>\n",
              "<table border=\"1\" class=\"dataframe\">\n",
              "  <thead>\n",
              "    <tr style=\"text-align: right;\">\n",
              "      <th></th>\n",
              "      <th>Year</th>\n",
              "      <th>CH4 concentration (EEA &amp; NOAA (2019))</th>\n",
              "    </tr>\n",
              "  </thead>\n",
              "  <tbody>\n",
              "    <tr>\n",
              "      <th>0</th>\n",
              "      <td>1750</td>\n",
              "      <td>719.01</td>\n",
              "    </tr>\n",
              "    <tr>\n",
              "      <th>1</th>\n",
              "      <td>1755</td>\n",
              "      <td>719.97</td>\n",
              "    </tr>\n",
              "    <tr>\n",
              "      <th>2</th>\n",
              "      <td>1760</td>\n",
              "      <td>720.93</td>\n",
              "    </tr>\n",
              "    <tr>\n",
              "      <th>3</th>\n",
              "      <td>1765</td>\n",
              "      <td>723.71</td>\n",
              "    </tr>\n",
              "    <tr>\n",
              "      <th>4</th>\n",
              "      <td>1770</td>\n",
              "      <td>726.50</td>\n",
              "    </tr>\n",
              "  </tbody>\n",
              "</table>\n",
              "</div>"
            ],
            "text/plain": [
              "   Year  CH4 concentration (EEA & NOAA (2019))\n",
              "0  1750                                 719.01\n",
              "1  1755                                 719.97\n",
              "2  1760                                 720.93\n",
              "3  1765                                 723.71\n",
              "4  1770                                 726.50"
            ]
          },
          "metadata": {
            "tags": []
          },
          "execution_count": 5
        }
      ]
    },
    {
      "cell_type": "code",
      "metadata": {
        "id": "lum8dfs-as3l"
      },
      "source": [
        "\r\n",
        "def fillMissingData(df,columnName):\r\n",
        "  inRange=df['Year']>=1880 \r\n",
        "  tmp=df[inRange]\r\n",
        "  list1=tmp['Year'].tolist()\r\n",
        "  list2=tmp[columnName].tolist()\r\n",
        "  years=[]\r\n",
        "  vals=[]\r\n",
        "  for i in range(1880,2019):\r\n",
        "    if i in list1:\r\n",
        "      years.append(i)\r\n",
        "      vals.append(list2[list1.index(i)])\r\n",
        "    else:\r\n",
        "      years.append(i)\r\n",
        "      cur=i+1\r\n",
        "      while True:\r\n",
        "        if cur in list1:\r\n",
        "          break\r\n",
        "        else:\r\n",
        "          cur+=1\r\n",
        "      vals.append((vals[len(vals)-1]+list2[list1.index(cur)])/2)\r\n",
        "  return [vals,years]"
      ],
      "execution_count": null,
      "outputs": []
    },
    {
      "cell_type": "code",
      "metadata": {
        "id": "Xp7unA-KfHf7"
      },
      "source": [
        "arr= [CO2_Concentraton,\"CO2 concentrations (NOAA, 2018)\",Methane_Concentration,\"CH4 concentration (EEA & NOAA (2019))\"]\r\n",
        "vals=[tempAnomaly['vals'].tolist()]\r\n",
        "for i in range(0,len(arr),2):\r\n",
        "  vals.append(fillMissingData(arr[i],arr[i+1])[0])\r\n"
      ],
      "execution_count": null,
      "outputs": []
    },
    {
      "cell_type": "code",
      "metadata": {
        "id": "aM2SWeRnri8c"
      },
      "source": [
        "\r\n",
        "dates=pd.DataFrame(fillMissingData(arr[0],arr[1])[1],columns=[\"year\"])\r\n"
      ],
      "execution_count": null,
      "outputs": []
    },
    {
      "cell_type": "code",
      "metadata": {
        "colab": {
          "base_uri": "https://localhost:8080/",
          "height": 197
        },
        "id": "SO0xXU5Wj0n9",
        "outputId": "5a644fd9-e1c2-4beb-c0b4-76e599e1c5aa"
      },
      "source": [
        "df = pd.DataFrame(list(zip(fillMissingData(arr[0],arr[1])[1],vals[0][:-2], vals[1],vals[2])), \r\n",
        "               columns =['Year','temperature','CO2', 'Methane'])\r\n",
        "cols = list(df)[1:]\r\n",
        "training_df = df[cols].astype(float)\r\n",
        "training_df['Datetime']=pd.to_datetime(dates['year'], format='%Y') \r\n",
        "training_df.head()"
      ],
      "execution_count": null,
      "outputs": [
        {
          "output_type": "execute_result",
          "data": {
            "text/html": [
              "<div>\n",
              "<style scoped>\n",
              "    .dataframe tbody tr th:only-of-type {\n",
              "        vertical-align: middle;\n",
              "    }\n",
              "\n",
              "    .dataframe tbody tr th {\n",
              "        vertical-align: top;\n",
              "    }\n",
              "\n",
              "    .dataframe thead th {\n",
              "        text-align: right;\n",
              "    }\n",
              "</style>\n",
              "<table border=\"1\" class=\"dataframe\">\n",
              "  <thead>\n",
              "    <tr style=\"text-align: right;\">\n",
              "      <th></th>\n",
              "      <th>temperature</th>\n",
              "      <th>CO2</th>\n",
              "      <th>Methane</th>\n",
              "      <th>Datetime</th>\n",
              "    </tr>\n",
              "  </thead>\n",
              "  <tbody>\n",
              "    <tr>\n",
              "      <th>0</th>\n",
              "      <td>-0.24</td>\n",
              "      <td>287.7700</td>\n",
              "      <td>847.480000</td>\n",
              "      <td>1880-01-01</td>\n",
              "    </tr>\n",
              "    <tr>\n",
              "      <th>1</th>\n",
              "      <td>-0.27</td>\n",
              "      <td>290.1150</td>\n",
              "      <td>852.415000</td>\n",
              "      <td>1881-01-01</td>\n",
              "    </tr>\n",
              "    <tr>\n",
              "      <th>2</th>\n",
              "      <td>-0.15</td>\n",
              "      <td>291.2875</td>\n",
              "      <td>854.882500</td>\n",
              "      <td>1882-01-01</td>\n",
              "    </tr>\n",
              "    <tr>\n",
              "      <th>3</th>\n",
              "      <td>-0.24</td>\n",
              "      <td>292.4600</td>\n",
              "      <td>856.116250</td>\n",
              "      <td>1883-01-01</td>\n",
              "    </tr>\n",
              "    <tr>\n",
              "      <th>4</th>\n",
              "      <td>-0.35</td>\n",
              "      <td>289.4900</td>\n",
              "      <td>856.733125</td>\n",
              "      <td>1884-01-01</td>\n",
              "    </tr>\n",
              "  </tbody>\n",
              "</table>\n",
              "</div>"
            ],
            "text/plain": [
              "   temperature       CO2     Methane   Datetime\n",
              "0        -0.24  287.7700  847.480000 1880-01-01\n",
              "1        -0.27  290.1150  852.415000 1881-01-01\n",
              "2        -0.15  291.2875  854.882500 1882-01-01\n",
              "3        -0.24  292.4600  856.116250 1883-01-01\n",
              "4        -0.35  289.4900  856.733125 1884-01-01"
            ]
          },
          "metadata": {
            "tags": []
          },
          "execution_count": 9
        }
      ]
    },
    {
      "cell_type": "code",
      "metadata": {
        "colab": {
          "base_uri": "https://localhost:8080/",
          "height": 648
        },
        "id": "xu8Bgkx5kLRr",
        "outputId": "b496d87e-c84c-4c9c-f91c-32c94874d5b6"
      },
      "source": [
        "\r\n",
        "feature_keys =training_df.columns.tolist()\r\n",
        "\r\n",
        "colors = [\r\n",
        "    \"blue\",\r\n",
        "    \"orange\",\r\n",
        "    \"green\",\r\n",
        "    \"red\",\r\n",
        "]\r\n",
        "\r\n",
        "titles = [\r\n",
        "    \"temperature\",\r\n",
        "    \"CO2\",\r\n",
        "    \"Methane\",\r\n",
        "    \"Datetime\",\r\n",
        "]\r\n",
        "\r\n",
        "\r\n",
        "\r\n",
        "def show_raw_visualization(data):\r\n",
        "    time_data = data[\"Datetime\"]\r\n",
        "    fig, axes = plt.subplots(\r\n",
        "        nrows=2, ncols=2, figsize=(6, 8), dpi=80, facecolor=\"w\", edgecolor=\"k\"\r\n",
        "    )\r\n",
        "    for i in range(len(feature_keys)):\r\n",
        "        key = feature_keys[i]\r\n",
        "        c = colors[i % (len(colors))]\r\n",
        "        t_data = data[key]\r\n",
        "        t_data.index = time_data\r\n",
        "        t_data.head()\r\n",
        "        ax = t_data.plot(\r\n",
        "            ax=axes[i // 2, i % 2],\r\n",
        "            color=c,\r\n",
        "            title=\"{} - {}\".format(titles[i], key),\r\n",
        "            rot=25,\r\n",
        "        )\r\n",
        "        ax.legend([titles[i]])\r\n",
        "    plt.tight_layout()\r\n",
        "\r\n",
        "\r\n",
        "show_raw_visualization(training_df)\r\n"
      ],
      "execution_count": null,
      "outputs": [
        {
          "output_type": "display_data",
          "data": {
            "image/png": "[encoded data removed]",
            "text/plain": [
              "<Figure size 480x640 with 4 Axes>"
            ]
          },
          "metadata": {
            "tags": []
          }
        }
      ]
    },
    {
      "cell_type": "code",
      "metadata": {
        "id": "FgJzZeNCUPWy"
      },
      "source": [
        "def process(df,n):   \r\n",
        "  arr=[]\r\n",
        "  for i in df.columns:\r\n",
        "    tmp=df[i].tolist()\r\n",
        "    new_list=[]\r\n",
        "    for j in range(len(tmp)-1):\r\n",
        "      cur=tmp[j]\r\n",
        "      next=tmp[j+1]\r\n",
        "      new_list.append(cur)\r\n",
        "      new_list.extend([(cur+(next-cur)/x) for x in reversed(range(1,n))])\r\n",
        "    arr.append(new_list)\r\n",
        "  \r\n",
        "  dictionairy={}\r\n",
        "  dictionairy[\"temperature\"]=arr[0]\r\n",
        "  dictionairy[\"CO2\"]=arr[1]\r\n",
        "  dictionairy[\"Methane\"]=arr[2]\r\n",
        "  dictionairy[\"Datetime\"]=arr[3]\r\n",
        "  return pd.DataFrame(data=dictionairy)\r\n",
        "training_df=process(training_df,1)"
      ],
      "execution_count": null,
      "outputs": []
    },
    {
      "cell_type": "code",
      "metadata": {
        "id": "oEucX51npcVi",
        "colab": {
          "base_uri": "https://localhost:8080/",
          "height": 332
        },
        "outputId": "b7b52b73-2820-4dfa-89a1-5d98922dd45f"
      },
      "source": [
        "def show_heatmap(data):\r\n",
        "    plt.matshow(data.corr())\r\n",
        "    plt.xticks(range(data.shape[1]), data.columns, fontsize=14, rotation=90)\r\n",
        "    plt.gca().xaxis.tick_bottom()\r\n",
        "    plt.yticks(range(data.shape[1]), data.columns, fontsize=14)\r\n",
        "\r\n",
        "    cb = plt.colorbar()\r\n",
        "    cb.ax.tick_params(labelsize=14)\r\n",
        "    plt.title(\"Feature Correlation Heatmap\", fontsize=14)\r\n",
        "    plt.show()\r\n",
        "\r\n",
        "\r\n",
        "show_heatmap(training_df)"
      ],
      "execution_count": null,
      "outputs": [
        {
          "output_type": "display_data",
          "data": {
            "image/png": "[encoded data removed]",
            "text/plain": [
              "<Figure size 288x288 with 2 Axes>"
            ]
          },
          "metadata": {
            "tags": [],
            "needs_background": "light"
          }
        }
      ]
    },
    {
      "cell_type": "code",
      "metadata": {
        "id": "YrBHJfw59avZ"
      },
      "source": [
        "split_fraction = 0.8\r\n",
        "train_split = int(split_fraction * int(df.shape[0]))\r\n",
        "\r\n",
        "step = 1\r\n",
        "\r\n",
        "past = 10\r\n",
        "future = 1\r\n",
        "learning_rate = 0.001\r\n",
        "batch_size = 256\r\n",
        "epochs = 5\r\n",
        "import keras\r\n",
        "\r\n",
        "\r\n",
        "def normalize(data, train_split):\r\n",
        "    data_mean = data[:train_split].mean(axis=0)\r\n",
        "    data_std = data[:train_split].std(axis=0)\r\n",
        "    return (data - data_mean) / data_std"
      ],
      "execution_count": null,
      "outputs": []
    },
    {
      "cell_type": "code",
      "metadata": {
        "colab": {
          "base_uri": "https://localhost:8080/"
        },
        "id": "IL7C0FFD9a1X",
        "outputId": "eccd9651-6d92-41b9-d98b-04f0fe4bb602"
      },
      "source": [
        "print(\r\n",
        "    \"The selected parameters are:\",\r\n",
        "    \", \".join([titles[i] for i in [0, 1,2]]),\r\n",
        ")\r\n",
        "selected_features = [feature_keys[i] for i in [0, 1,2]]\r\n",
        "features = training_df[selected_features]\r\n",
        "features.index = training_df[\"Datetime\"]\r\n",
        "features.head()\r\n",
        "\r\n",
        "features = normalize(features.values, train_split)\r\n",
        "features = pd.DataFrame(features)\r\n",
        "features.head()\r\n",
        "\r\n",
        "train_data = features.loc[0 : train_split - 1]\r\n",
        "val_data = features.loc[train_split:]\r\n"
      ],
      "execution_count": null,
      "outputs": [
        {
          "output_type": "stream",
          "text": [
            "The selected parameters are: temperature, CO2, Methane\n"
          ],
          "name": "stdout"
        }
      ]
    },
    {
      "cell_type": "code",
      "metadata": {
        "id": "hwz1rE6rDBhb"
      },
      "source": [
        "start = past + future\r\n",
        "end = start + train_split\r\n",
        "\r\n",
        "x_train = train_data[[i for i in range(3)]].values\r\n",
        "y_train = features.iloc[start:end][[0]]\r\n",
        "\r\n",
        "sequence_length = int(past / step)\r\n",
        "\r\n"
      ],
      "execution_count": null,
      "outputs": []
    },
    {
      "cell_type": "code",
      "metadata": {
        "id": "elTUMEmrDB1G"
      },
      "source": [
        "dataset_train = keras.preprocessing.timeseries_dataset_from_array(\r\n",
        "    x_train,\r\n",
        "    y_train,\r\n",
        "    sequence_length=sequence_length,\r\n",
        "    sampling_rate=step,\r\n",
        "    batch_size=batch_size,\r\n",
        ")"
      ],
      "execution_count": null,
      "outputs": []
    },
    {
      "cell_type": "code",
      "metadata": {
        "colab": {
          "base_uri": "https://localhost:8080/"
        },
        "id": "LsehgQgHPFc6",
        "outputId": "b0dfb14b-e59a-4e9a-e214-76ba8d2d6d7a"
      },
      "source": [
        "\r\n",
        "x_end = len(val_data) - past - future\r\n",
        "\r\n",
        "label_start = train_split + past + future\r\n",
        "\r\n",
        "x_val = val_data.iloc[:x_end][[i for i in range(3)]].values\r\n",
        "y_val = features.iloc[label_start:][[0]].values\r\n",
        "\r\n",
        "dataset_val = keras.preprocessing.timeseries_dataset_from_array(\r\n",
        "    x_val,\r\n",
        "    y_val,\r\n",
        "    sequence_length=sequence_length,\r\n",
        "    sampling_rate=step,\r\n",
        "    batch_size=batch_size,\r\n",
        ")\r\n",
        "\r\n",
        "\r\n",
        "for batch in dataset_train.take(1):\r\n",
        "    inputs, targets = batch\r\n",
        "    \r\n",
        "\r\n",
        "print(\"Input shape:\", inputs.numpy().shape)\r\n",
        "print(\"Target shape:\", targets.numpy().shape)"
      ],
      "execution_count": null,
      "outputs": [
        {
          "output_type": "stream",
          "text": [
            "Input shape: (102, 10, 3)\n",
            "Target shape: (102, 1)\n"
          ],
          "name": "stdout"
        }
      ]
    },
    {
      "cell_type": "code",
      "metadata": {
        "id": "xO4iUraUkeSG",
        "colab": {
          "base_uri": "https://localhost:8080/"
        },
        "outputId": "72b64899-6b55-418d-e762-b9727dcbd979"
      },
      "source": [
        "inputs = keras.layers.Input(shape=(inputs.shape[1], inputs.shape[2]))\r\n",
        "lstm_out = keras.layers.LSTM(256)(inputs)\r\n",
        "outputs = keras.layers.Dense(1)(lstm_out)\r\n",
        "\r\n",
        "model = keras.Model(inputs=inputs, outputs=outputs)\r\n",
        "model.compile(optimizer=keras.optimizers.Adam(learning_rate=learning_rate), loss=\"mse\")\r\n",
        "model.summary()"
      ],
      "execution_count": null,
      "outputs": [
        {
          "output_type": "stream",
          "text": [
            "Model: \"model_7\"\n",
            "_________________________________________________________________\n",
            "Layer (type)                 Output Shape              Param #   \n",
            "=================================================================\n",
            "input_8 (InputLayer)         [(None, 10, 3)]           0         \n",
            "_________________________________________________________________\n",
            "lstm_7 (LSTM)                (None, 256)               266240    \n",
            "_________________________________________________________________\n",
            "dense_7 (Dense)              (None, 1)                 257       \n",
            "=================================================================\n",
            "Total params: 266,497\n",
            "Trainable params: 266,497\n",
            "Non-trainable params: 0\n",
            "_________________________________________________________________\n"
          ],
          "name": "stdout"
        }
      ]
    },
    {
      "cell_type": "code",
      "metadata": {
        "id": "RcUZ7Ww0PKfZ"
      },
      "source": [
        ""
      ],
      "execution_count": null,
      "outputs": []
    },
    {
      "cell_type": "code",
      "metadata": {
        "colab": {
          "base_uri": "https://localhost:8080/"
        },
        "id": "rzamRRKRPKqw",
        "outputId": "2d2c01c1-ad32-4d7f-89ea-2e56e570315e"
      },
      "source": [
        "path_checkpoint = \"model_checkpoint.h5\"\r\n",
        "es_callback = keras.callbacks.EarlyStopping(monitor=\"loss\", min_delta=0, patience=5)\r\n",
        "\r\n",
        "modelckpt_callback = keras.callbacks.ModelCheckpoint(\r\n",
        "    monitor=\"loss\",\r\n",
        "    filepath=path_checkpoint,\r\n",
        "    verbose=1,\r\n",
        "    save_weights_only=True,\r\n",
        "    save_best_only=True,\r\n",
        ")\r\n",
        "\r\n",
        "history = model.fit(\r\n",
        "    dataset_train,\r\n",
        "    epochs=epochs,\r\n",
        "    validation_data=dataset_val,\r\n",
        "    callbacks=[es_callback, modelckpt_callback],\r\n",
        ")\r\n"
      ],
      "execution_count": null,
      "outputs": [
        {
          "output_type": "stream",
          "text": [
            "Epoch 1/5\n",
            "1/1 [==============================] - 2s 2s/step - loss: 0.8743 - val_loss: 4.6288\n",
            "\n",
            "Epoch 00001: loss improved from inf to 0.87433, saving model to model_checkpoint.h5\n",
            "Epoch 2/5\n",
            "1/1 [==============================] - 0s 163ms/step - loss: 0.6222 - val_loss: 1.6256\n",
            "\n",
            "Epoch 00002: loss improved from 0.87433 to 0.62221, saving model to model_checkpoint.h5\n",
            "Epoch 3/5\n",
            "1/1 [==============================] - 0s 177ms/step - loss: 0.5068 - val_loss: 0.3407\n",
            "\n",
            "Epoch 00003: loss improved from 0.62221 to 0.50679, saving model to model_checkpoint.h5\n",
            "Epoch 4/5\n",
            "1/1 [==============================] - 0s 166ms/step - loss: 0.5295 - val_loss: 0.1972\n",
            "\n",
            "Epoch 00004: loss did not improve from 0.50679\n",
            "Epoch 5/5\n",
            "1/1 [==============================] - 0s 162ms/step - loss: 0.5704 - val_loss: 0.3117\n",
            "\n",
            "Epoch 00005: loss did not improve from 0.50679\n"
          ],
          "name": "stdout"
        }
      ]
    },
    {
      "cell_type": "code",
      "metadata": {
        "colab": {
          "base_uri": "https://localhost:8080/",
          "height": 295
        },
        "id": "AHDDzySkPKxF",
        "outputId": "29514aba-9c60-495a-9e75-238142d3808d"
      },
      "source": [
        "def visualize_loss(history, title):\r\n",
        "    loss = history.history[\"loss\"]\r\n",
        "    val_loss = history.history[\"val_loss\"]\r\n",
        "    epochs = range(len(loss))\r\n",
        "    plt.figure()\r\n",
        "    plt.plot(epochs, loss, \"b\", label=\"Training loss\")\r\n",
        "    plt.plot(epochs, val_loss, \"r\", label=\"Validation loss\")\r\n",
        "    plt.title(title)\r\n",
        "    plt.xlabel(\"Epochs\")\r\n",
        "    plt.ylabel(\"Loss\")\r\n",
        "    plt.legend()\r\n",
        "    plt.show()\r\n",
        "\r\n",
        "\r\n",
        "visualize_loss(history, \"Training and Validation Loss\")"
      ],
      "execution_count": null,
      "outputs": [
        {
          "output_type": "display_data",
          "data": {
            "image/png": "[encoded data removed]",
            "text/plain": [
              "<Figure size 432x288 with 1 Axes>"
            ]
          },
          "metadata": {
            "tags": [],
            "needs_background": "light"
          }
        }
      ]
    },
    {
      "cell_type": "code",
      "metadata": {
        "colab": {
          "base_uri": "https://localhost:8080/",
          "height": 295
        },
        "id": "cFYDW93wdVts",
        "outputId": "ed853125-4655-47f7-899d-8acff1e9ed77"
      },
      "source": [
        "def show_plot(plot_data, delta, title):\r\n",
        "    labels = [\"History\", \"True Future\", \"Model Prediction\"]\r\n",
        "    marker = [\".-\", \"rx\", \"go\"]\r\n",
        "    time_steps = list(range(-(plot_data[0].shape[0]), 0))\r\n",
        "    if delta:\r\n",
        "        future = delta\r\n",
        "    else:\r\n",
        "        future = 0\r\n",
        "\r\n",
        "    plt.title(title)\r\n",
        "    for i, val in enumerate(plot_data):\r\n",
        "        if i:\r\n",
        "            plt.plot(1, plot_data[i], marker[i], markersize=10, label=labels[i])\r\n",
        "        else:\r\n",
        "            plt.plot(time_steps, plot_data[i].flatten(), marker[i], label=labels[i])\r\n",
        "    plt.legend()\r\n",
        "    plt.xlim([time_steps[0], (future + 5) * 2])\r\n",
        "    plt.xlabel(\"Time-Step\")\r\n",
        "    plt.show()\r\n",
        "    return\r\n",
        "\r\n",
        "\r\n",
        "for x, y in dataset_val.take(1):\r\n",
        "    show_plot(\r\n",
        "        [x[0][:, 0].numpy(), y[0].numpy(), model.predict(x)[0]],\r\n",
        "        12,\r\n",
        "        \"Single Step Prediction\",\r\n",
        "    )"
      ],
      "execution_count": null,
      "outputs": [
        {
          "output_type": "display_data",
          "data": {
            "image/png": "[encoded data removed]",
            "text/plain": [
              "<Figure size 432x288 with 1 Axes>"
            ]
          },
          "metadata": {
            "tags": [],
            "needs_background": "light"
          }
        }
      ]
    }
  ]
}